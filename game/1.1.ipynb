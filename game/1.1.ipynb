{
 "cells": [
  {
   "cell_type": "code",
   "execution_count": 47,
   "metadata": {},
   "outputs": [],
   "source": [
    "class Solution:\n",
    "    def validNumber(self, s: str) -> bool:\n",
    "        states = [\n",
    "            {' ': 0, 'sign': 1, 'digit': 2, '.': 9},  # 0\n",
    "            {'digit': 2, '.': 3},  # 1 sign\n",
    "            {'.': 3, 'digit': 2, 'e': 5, ' ': 8},  # 2 digit\n",
    "            {'digit': 4, ' ': 8},  # 3 point\n",
    "            {'digit': 4, 'e': 5, ' ': 8},  # 4 digit\n",
    "            {'sign': 6, 'digit': 7},  # 5 eE\n",
    "            {'digit': 7},  # 6 sign\n",
    "            {'digit': 7, ' ': 8},  # 7 digit\n",
    "            {' ': 8},  # 8 blank\n",
    "            {'digit': 4}  # 9 .\n",
    "        ]\n",
    "        p = 0\n",
    "        t = 0\n",
    "        if s == ' ':\n",
    "            return False\n",
    "        if s == '.':\n",
    "            return False\n",
    "        for a in s:\n",
    "            if a <= '9' and a >= '0':\n",
    "                p = 'digit'\n",
    "            elif a in '+-':\n",
    "                p = 'sign'\n",
    "            elif a in '.':\n",
    "                if t == 1:  # 如果当前状态是 1（'sign' -> 'digit' 或 '.'），直接返回 False\n",
    "                    return False\n",
    "                p = '.'\n",
    "            elif a in 'eE':\n",
    "                p = 'e'\n",
    "            elif a == ' ':\n",
    "                p = ' '\n",
    "            else:\n",
    "                return False\n",
    "            if p in states[t]:\n",
    "                t = states[t][p]\n",
    "            else:\n",
    "                return False\n",
    "\n",
    "        if t in [2, 3, 7, 8, 4]:\n",
    "            return True\n",
    "        else:\n",
    "            return False\n"
   ]
  },
  {
   "cell_type": "code",
   "execution_count": 48,
   "metadata": {},
   "outputs": [
    {
     "data": {
      "text/plain": [
       "False"
      ]
     },
     "execution_count": 48,
     "metadata": {},
     "output_type": "execute_result"
    }
   ],
   "source": [
    "Solution().validNumber('-.8')"
   ]
  }
 ],
 "metadata": {
  "kernelspec": {
   "display_name": "wp1",
   "language": "python",
   "name": "python3"
  },
  "language_info": {
   "codemirror_mode": {
    "name": "ipython",
    "version": 3
   },
   "file_extension": ".py",
   "mimetype": "text/x-python",
   "name": "python",
   "nbconvert_exporter": "python",
   "pygments_lexer": "ipython3",
   "version": "3.9.19"
  }
 },
 "nbformat": 4,
 "nbformat_minor": 2
}
