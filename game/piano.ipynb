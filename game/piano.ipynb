{
 "cells": [
  {
   "cell_type": "code",
   "execution_count": 1,
   "metadata": {},
   "outputs": [],
   "source": [
    "import pyautogui\n",
    "import cv2\n",
    "import numpy as np\n",
    "import time\n",
    "import keyboard\n",
    "from ctypes import * \n",
    "import threading\n"
   ]
  },
  {
   "cell_type": "code",
   "execution_count": 2,
   "metadata": {},
   "outputs": [],
   "source": [
    "def get_color(x, y):\n",
    "    gdi32 = windll.gdi32\n",
    "    user32 = windll.user32\n",
    "    hdc = user32.GetDC(None)  # 获取颜色值\n",
    "    pixel = gdi32.GetPixel(hdc, x, y)  # 提取RGB值\n",
    "    r = pixel & 0x0000ff\n",
    "    g = (pixel & 0x00ff00) >> 8\n",
    "    b = pixel >> 16\n",
    "    return [r, g, b]\n"
   ]
  },
  {
   "cell_type": "code",
   "execution_count": 3,
   "metadata": {},
   "outputs": [],
   "source": [
    "while (1):\n",
    "    if keyboard.is_pressed('1'):\n",
    "        x1, y1 = pyautogui.position() \n",
    "\n",
    "    if keyboard.is_pressed('2'):\n",
    "        x2, y2 = pyautogui.position()  \n",
    "\n",
    "    if keyboard.is_pressed('3'):\n",
    "        x3, y3 = pyautogui.position()  \n",
    "\n",
    "    if keyboard.is_pressed('4'):\n",
    "        x4, y4 = pyautogui.position()  \n",
    "\n",
    "    if keyboard.is_pressed('q'):\n",
    "        break"
   ]
  },
  {
   "cell_type": "code",
   "execution_count": 16,
   "metadata": {},
   "outputs": [],
   "source": [
    "def my_function():\n",
    "    while (1): \n",
    "        if keyboard.is_pressed('s'):\n",
    "            break\n",
    "    while (1):\n",
    "        if get_color(x1, y1)[0] < 50:\n",
    "            pyautogui.click(x1, y1+100)\n",
    "        if get_color(x2, y2)[0] < 50:\n",
    "            pyautogui.click(x2, y2+100)\n",
    "        if get_color(x3, y3)[0] < 50:\n",
    "            pyautogui.click(x3, y3+100)\n",
    "        if get_color(x4, y4)[0] < 50:\n",
    "            pyautogui.click(x4, y4+100)\n",
    "        if keyboard.is_pressed('a'):\n",
    "            break\n",
    "\n",
    "my_function()"
   ]
  }
 ],
 "metadata": {
  "kernelspec": {
   "display_name": "base",
   "language": "python",
   "name": "python3"
  },
  "language_info": {
   "codemirror_mode": {
    "name": "ipython",
    "version": 3
   },
   "file_extension": ".py",
   "mimetype": "text/x-python",
   "name": "python",
   "nbconvert_exporter": "python",
   "pygments_lexer": "ipython3",
   "version": "3.11.5"
  }
 },
 "nbformat": 4,
 "nbformat_minor": 2
}
