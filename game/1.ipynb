{
 "cells": [
  {
   "cell_type": "code",
   "execution_count": 102,
   "metadata": {},
   "outputs": [],
   "source": [
    "class Solution:\n",
    "    def validNumber(self, s: str) -> bool:\n",
    "        states=[\n",
    "            {' ':0 ,'sign':1 ,'digit':2 ,'.':9},   #0\n",
    "            {'digit':2},       #1 sign\n",
    "            {'.':3 ,'digit':2 ,'e':5 ,' ':8},   #2 digit\n",
    "            {'digit':4,' ':8},  #3 point\n",
    "            {'digit':4,'e':5},     #4 digit\n",
    "            {'sign':6 ,'digit':7},        #5 eE\n",
    "            {'digit':7},   #6 sign\n",
    "            {'digit':7 ,' ':8},        #7 digit\n",
    "            {' ':8}   #8 blank\n",
    "            {' ':9}   #9 .\n",
    "        ]\n",
    "        p=0\n",
    "        t=0\n",
    "        if s==' ':\n",
    "            return False\n",
    "        if s=='.':\n",
    "            return False\n",
    "        for a in s:\n",
    "            if a<='9' and a>='0': \n",
    "                p='digit'\n",
    "            elif a in '+-':\n",
    "                p='sign'\n",
    "            elif a in '.':\n",
    "                p='.'\n",
    "            elif a in 'eE':\n",
    "                p='e'\n",
    "            elif a==' ':\n",
    "                p=' '\n",
    "            if p in states[t]:\n",
    "                print(t,p)\n",
    "                t=states[t][p]\n",
    "                print(t)\n",
    "            else: \n",
    "                 return False\n",
    "        \n",
    "\n",
    "        if t in [2,3,7,8,4]:\n",
    "            return True\n",
    "        else:\n",
    "            return False\n",
    "\n",
    "            \n",
    "            "
   ]
  },
  {
   "cell_type": "code",
   "execution_count": 107,
   "metadata": {},
   "outputs": [
    {
     "name": "stdout",
     "output_type": "stream",
     "text": [
      "0  \n",
      "0\n",
      "0 .\n",
      "3\n"
     ]
    },
    {
     "data": {
      "text/plain": [
       "True"
      ]
     },
     "execution_count": 107,
     "metadata": {},
     "output_type": "execute_result"
    }
   ],
   "source": [
    "Solution().validNumber(' .')"
   ]
  }
 ],
 "metadata": {
  "kernelspec": {
   "display_name": "wp1",
   "language": "python",
   "name": "python3"
  },
  "language_info": {
   "codemirror_mode": {
    "name": "ipython",
    "version": 3
   },
   "file_extension": ".py",
   "mimetype": "text/x-python",
   "name": "python",
   "nbconvert_exporter": "python",
   "pygments_lexer": "ipython3",
   "version": "3.9.19"
  }
 },
 "nbformat": 4,
 "nbformat_minor": 2
}
